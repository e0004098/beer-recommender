{
 "cells": [
  {
   "cell_type": "code",
   "execution_count": 48,
   "id": "a8f22833",
   "metadata": {},
   "outputs": [],
   "source": [
    "%matplotlib inline \n",
    "\n",
    "import pandas as pd\n",
    "import numpy as np\n",
    "import matplotlib\n",
    "import matplotlib.pyplot as plt\n",
    "from matplotlib import rcParams\n",
    "import seaborn as sns \n",
    "\n",
    "\n",
    "rcParams['figure.figsize'] = 15.5,10.5"
   ]
  },
  {
   "cell_type": "markdown",
   "id": "ac2e88ce",
   "metadata": {},
   "source": [
    "# Data Adjusting "
   ]
  },
  {
   "cell_type": "code",
   "execution_count": 49,
   "id": "cf9ffdfb",
   "metadata": {},
   "outputs": [
    {
     "data": {
      "text/html": [
       "<div>\n",
       "<style scoped>\n",
       "    .dataframe tbody tr th:only-of-type {\n",
       "        vertical-align: middle;\n",
       "    }\n",
       "\n",
       "    .dataframe tbody tr th {\n",
       "        vertical-align: top;\n",
       "    }\n",
       "\n",
       "    .dataframe thead th {\n",
       "        text-align: right;\n",
       "    }\n",
       "</style>\n",
       "<table border=\"1\" class=\"dataframe\">\n",
       "  <thead>\n",
       "    <tr style=\"text-align: right;\">\n",
       "      <th></th>\n",
       "      <th>brewery_id</th>\n",
       "      <th>brewery_name</th>\n",
       "      <th>review_time</th>\n",
       "      <th>review_overall</th>\n",
       "      <th>review_aroma</th>\n",
       "      <th>review_appearance</th>\n",
       "      <th>review_profilename</th>\n",
       "      <th>beer_style</th>\n",
       "      <th>review_palate</th>\n",
       "      <th>review_taste</th>\n",
       "      <th>beer_name</th>\n",
       "      <th>beer_abv</th>\n",
       "      <th>beer_beerid</th>\n",
       "    </tr>\n",
       "  </thead>\n",
       "  <tbody>\n",
       "    <tr>\n",
       "      <th>0</th>\n",
       "      <td>10325</td>\n",
       "      <td>Vecchio Birraio</td>\n",
       "      <td>1234817823</td>\n",
       "      <td>1.5</td>\n",
       "      <td>2.0</td>\n",
       "      <td>2.5</td>\n",
       "      <td>stcules</td>\n",
       "      <td>Hefeweizen</td>\n",
       "      <td>1.5</td>\n",
       "      <td>1.5</td>\n",
       "      <td>Sausa Weizen</td>\n",
       "      <td>5.0</td>\n",
       "      <td>47986</td>\n",
       "    </tr>\n",
       "    <tr>\n",
       "      <th>1</th>\n",
       "      <td>10325</td>\n",
       "      <td>Vecchio Birraio</td>\n",
       "      <td>1235915097</td>\n",
       "      <td>3.0</td>\n",
       "      <td>2.5</td>\n",
       "      <td>3.0</td>\n",
       "      <td>stcules</td>\n",
       "      <td>English Strong Ale</td>\n",
       "      <td>3.0</td>\n",
       "      <td>3.0</td>\n",
       "      <td>Red Moon</td>\n",
       "      <td>6.2</td>\n",
       "      <td>48213</td>\n",
       "    </tr>\n",
       "    <tr>\n",
       "      <th>2</th>\n",
       "      <td>10325</td>\n",
       "      <td>Vecchio Birraio</td>\n",
       "      <td>1235916604</td>\n",
       "      <td>3.0</td>\n",
       "      <td>2.5</td>\n",
       "      <td>3.0</td>\n",
       "      <td>stcules</td>\n",
       "      <td>Foreign / Export Stout</td>\n",
       "      <td>3.0</td>\n",
       "      <td>3.0</td>\n",
       "      <td>Black Horse Black Beer</td>\n",
       "      <td>6.5</td>\n",
       "      <td>48215</td>\n",
       "    </tr>\n",
       "    <tr>\n",
       "      <th>3</th>\n",
       "      <td>10325</td>\n",
       "      <td>Vecchio Birraio</td>\n",
       "      <td>1234725145</td>\n",
       "      <td>3.0</td>\n",
       "      <td>3.0</td>\n",
       "      <td>3.5</td>\n",
       "      <td>stcules</td>\n",
       "      <td>German Pilsener</td>\n",
       "      <td>2.5</td>\n",
       "      <td>3.0</td>\n",
       "      <td>Sausa Pils</td>\n",
       "      <td>5.0</td>\n",
       "      <td>47969</td>\n",
       "    </tr>\n",
       "    <tr>\n",
       "      <th>4</th>\n",
       "      <td>1075</td>\n",
       "      <td>Caldera Brewing Company</td>\n",
       "      <td>1293735206</td>\n",
       "      <td>4.0</td>\n",
       "      <td>4.5</td>\n",
       "      <td>4.0</td>\n",
       "      <td>johnmichaelsen</td>\n",
       "      <td>American Double / Imperial IPA</td>\n",
       "      <td>4.0</td>\n",
       "      <td>4.5</td>\n",
       "      <td>Cauldron DIPA</td>\n",
       "      <td>7.7</td>\n",
       "      <td>64883</td>\n",
       "    </tr>\n",
       "  </tbody>\n",
       "</table>\n",
       "</div>"
      ],
      "text/plain": [
       "   brewery_id             brewery_name  review_time  review_overall  \\\n",
       "0       10325          Vecchio Birraio   1234817823             1.5   \n",
       "1       10325          Vecchio Birraio   1235915097             3.0   \n",
       "2       10325          Vecchio Birraio   1235916604             3.0   \n",
       "3       10325          Vecchio Birraio   1234725145             3.0   \n",
       "4        1075  Caldera Brewing Company   1293735206             4.0   \n",
       "\n",
       "   review_aroma  review_appearance review_profilename  \\\n",
       "0           2.0                2.5            stcules   \n",
       "1           2.5                3.0            stcules   \n",
       "2           2.5                3.0            stcules   \n",
       "3           3.0                3.5            stcules   \n",
       "4           4.5                4.0     johnmichaelsen   \n",
       "\n",
       "                       beer_style  review_palate  review_taste  \\\n",
       "0                      Hefeweizen            1.5           1.5   \n",
       "1              English Strong Ale            3.0           3.0   \n",
       "2          Foreign / Export Stout            3.0           3.0   \n",
       "3                 German Pilsener            2.5           3.0   \n",
       "4  American Double / Imperial IPA            4.0           4.5   \n",
       "\n",
       "                beer_name  beer_abv  beer_beerid  \n",
       "0            Sausa Weizen       5.0        47986  \n",
       "1                Red Moon       6.2        48213  \n",
       "2  Black Horse Black Beer       6.5        48215  \n",
       "3              Sausa Pils       5.0        47969  \n",
       "4           Cauldron DIPA       7.7        64883  "
      ]
     },
     "execution_count": 49,
     "metadata": {},
     "output_type": "execute_result"
    }
   ],
   "source": [
    "# importing the data set \n",
    "beer_review_raw_data = pd.read_csv(\"beer_reviews.csv\")\n",
    "beer_review_raw_data.head() "
   ]
  },
  {
   "cell_type": "code",
   "execution_count": 50,
   "id": "bbc110d8",
   "metadata": {},
   "outputs": [
    {
     "name": "stdout",
     "output_type": "stream",
     "text": [
      "<class 'pandas.core.frame.DataFrame'>\n",
      "RangeIndex: 1586614 entries, 0 to 1586613\n",
      "Data columns (total 13 columns):\n",
      " #   Column              Non-Null Count    Dtype  \n",
      "---  ------              --------------    -----  \n",
      " 0   brewery_id          1586614 non-null  int64  \n",
      " 1   brewery_name        1586599 non-null  object \n",
      " 2   review_time         1586614 non-null  int64  \n",
      " 3   review_overall      1586614 non-null  float64\n",
      " 4   review_aroma        1586614 non-null  float64\n",
      " 5   review_appearance   1586614 non-null  float64\n",
      " 6   review_profilename  1586266 non-null  object \n",
      " 7   beer_style          1586614 non-null  object \n",
      " 8   review_palate       1586614 non-null  float64\n",
      " 9   review_taste        1586614 non-null  float64\n",
      " 10  beer_name           1586614 non-null  object \n",
      " 11  beer_abv            1518829 non-null  float64\n",
      " 12  beer_beerid         1586614 non-null  int64  \n",
      "dtypes: float64(6), int64(3), object(4)\n",
      "memory usage: 157.4+ MB\n"
     ]
    }
   ],
   "source": [
    "beer_review_raw_data.info()"
   ]
  },
  {
   "cell_type": "code",
   "execution_count": 51,
   "id": "43977835",
   "metadata": {},
   "outputs": [
    {
     "data": {
      "text/plain": [
       "348"
      ]
     },
     "execution_count": 51,
     "metadata": {},
     "output_type": "execute_result"
    }
   ],
   "source": [
    "# invalid users, no profile id\n",
    "null_profiles = beer_review_raw_data[beer_review_raw_data['review_profilename'].isnull()] # find the number of unique entries in the dataset \n",
    "len(null_profiles)"
   ]
  },
  {
   "cell_type": "code",
   "execution_count": 52,
   "id": "9f31b4d2",
   "metadata": {},
   "outputs": [
    {
     "name": "stdout",
     "output_type": "stream",
     "text": [
      "<class 'pandas.core.frame.DataFrame'>\n",
      "Int64Index: 1586266 entries, 0 to 1586613\n",
      "Data columns (total 13 columns):\n",
      " #   Column              Non-Null Count    Dtype  \n",
      "---  ------              --------------    -----  \n",
      " 0   brewery_id          1586266 non-null  int64  \n",
      " 1   brewery_name        1586251 non-null  object \n",
      " 2   review_time         1586266 non-null  int64  \n",
      " 3   review_overall      1586266 non-null  float64\n",
      " 4   review_aroma        1586266 non-null  float64\n",
      " 5   review_appearance   1586266 non-null  float64\n",
      " 6   review_profilename  1586266 non-null  object \n",
      " 7   beer_style          1586266 non-null  object \n",
      " 8   review_palate       1586266 non-null  float64\n",
      " 9   review_taste        1586266 non-null  float64\n",
      " 10  beer_name           1586266 non-null  object \n",
      " 11  beer_abv            1518493 non-null  float64\n",
      " 12  beer_beerid         1586266 non-null  int64  \n",
      "dtypes: float64(6), int64(3), object(4)\n",
      "memory usage: 169.4+ MB\n"
     ]
    }
   ],
   "source": [
    "valid_profiles = beer_review_raw_data[beer_review_raw_data['review_profilename'].notnull()]\n",
    "valid_profiles.info()"
   ]
  },
  {
   "cell_type": "code",
   "execution_count": 53,
   "id": "0f25fb2d",
   "metadata": {},
   "outputs": [
    {
     "name": "stdout",
     "output_type": "stream",
     "text": [
      "<class 'pandas.core.frame.DataFrame'>\n",
      "Int64Index: 1586251 entries, 0 to 1586613\n",
      "Data columns (total 13 columns):\n",
      " #   Column              Non-Null Count    Dtype  \n",
      "---  ------              --------------    -----  \n",
      " 0   brewery_id          1586251 non-null  int64  \n",
      " 1   brewery_name        1586251 non-null  object \n",
      " 2   review_time         1586251 non-null  int64  \n",
      " 3   review_overall      1586251 non-null  float64\n",
      " 4   review_aroma        1586251 non-null  float64\n",
      " 5   review_appearance   1586251 non-null  float64\n",
      " 6   review_profilename  1586251 non-null  object \n",
      " 7   beer_style          1586251 non-null  object \n",
      " 8   review_palate       1586251 non-null  float64\n",
      " 9   review_taste        1586251 non-null  float64\n",
      " 10  beer_name           1586251 non-null  object \n",
      " 11  beer_abv            1518478 non-null  float64\n",
      " 12  beer_beerid         1586251 non-null  int64  \n",
      "dtypes: float64(6), int64(3), object(4)\n",
      "memory usage: 169.4+ MB\n"
     ]
    }
   ],
   "source": [
    "valid_entries = valid_profiles[valid_profiles['brewery_name'].notnull()]\n",
    "valid_entries.info()"
   ]
  },
  {
   "cell_type": "code",
   "execution_count": 54,
   "id": "f7d6d6a1",
   "metadata": {},
   "outputs": [
    {
     "name": "stdout",
     "output_type": "stream",
     "text": [
      "<class 'pandas.core.frame.DataFrame'>\n",
      "Int64Index: 1586251 entries, 0 to 1586613\n",
      "Data columns (total 12 columns):\n",
      " #   Column              Non-Null Count    Dtype  \n",
      "---  ------              --------------    -----  \n",
      " 0   brewery_id          1586251 non-null  int64  \n",
      " 1   brewery_name        1586251 non-null  object \n",
      " 2   review_time         1586251 non-null  int64  \n",
      " 3   review_overall      1586251 non-null  float64\n",
      " 4   review_aroma        1586251 non-null  float64\n",
      " 5   review_appearance   1586251 non-null  float64\n",
      " 6   review_profilename  1586251 non-null  object \n",
      " 7   beer_style          1586251 non-null  object \n",
      " 8   review_palate       1586251 non-null  float64\n",
      " 9   review_taste        1586251 non-null  float64\n",
      " 10  beer_name           1586251 non-null  object \n",
      " 11  beer_beerid         1586251 non-null  int64  \n",
      "dtypes: float64(5), int64(3), object(4)\n",
      "memory usage: 157.3+ MB\n"
     ]
    },
    {
     "name": "stderr",
     "output_type": "stream",
     "text": [
      "/tmp/ipykernel_6589/3500408041.py:1: FutureWarning: In a future version of pandas all arguments of DataFrame.drop except for the argument 'labels' will be keyword-only\n",
      "  df = valid_entries.drop('beer_abv', 1)\n"
     ]
    }
   ],
   "source": [
    "df = valid_entries.drop('beer_abv', 1)\n",
    "df.info()"
   ]
  },
  {
   "cell_type": "code",
   "execution_count": 55,
   "id": "eb2ec15d",
   "metadata": {},
   "outputs": [
    {
     "data": {
      "text/html": [
       "<div>\n",
       "<style scoped>\n",
       "    .dataframe tbody tr th:only-of-type {\n",
       "        vertical-align: middle;\n",
       "    }\n",
       "\n",
       "    .dataframe tbody tr th {\n",
       "        vertical-align: top;\n",
       "    }\n",
       "\n",
       "    .dataframe thead th {\n",
       "        text-align: right;\n",
       "    }\n",
       "</style>\n",
       "<table border=\"1\" class=\"dataframe\">\n",
       "  <thead>\n",
       "    <tr style=\"text-align: right;\">\n",
       "      <th></th>\n",
       "      <th>brewery_id</th>\n",
       "      <th>brewery_name</th>\n",
       "      <th>review_time</th>\n",
       "      <th>review_overall</th>\n",
       "      <th>review_aroma</th>\n",
       "      <th>review_appearance</th>\n",
       "      <th>review_profilename</th>\n",
       "      <th>beer_style</th>\n",
       "      <th>review_palate</th>\n",
       "      <th>review_taste</th>\n",
       "      <th>beer_name</th>\n",
       "      <th>beer_beerid</th>\n",
       "    </tr>\n",
       "  </thead>\n",
       "  <tbody>\n",
       "    <tr>\n",
       "      <th>0</th>\n",
       "      <td>10325</td>\n",
       "      <td>Vecchio Birraio</td>\n",
       "      <td>1234817823</td>\n",
       "      <td>1.5</td>\n",
       "      <td>2.0</td>\n",
       "      <td>2.5</td>\n",
       "      <td>stcules</td>\n",
       "      <td>Hefeweizen</td>\n",
       "      <td>1.5</td>\n",
       "      <td>1.5</td>\n",
       "      <td>Sausa Weizen</td>\n",
       "      <td>47986</td>\n",
       "    </tr>\n",
       "    <tr>\n",
       "      <th>1</th>\n",
       "      <td>10325</td>\n",
       "      <td>Vecchio Birraio</td>\n",
       "      <td>1235915097</td>\n",
       "      <td>3.0</td>\n",
       "      <td>2.5</td>\n",
       "      <td>3.0</td>\n",
       "      <td>stcules</td>\n",
       "      <td>English Strong Ale</td>\n",
       "      <td>3.0</td>\n",
       "      <td>3.0</td>\n",
       "      <td>Red Moon</td>\n",
       "      <td>48213</td>\n",
       "    </tr>\n",
       "    <tr>\n",
       "      <th>2</th>\n",
       "      <td>10325</td>\n",
       "      <td>Vecchio Birraio</td>\n",
       "      <td>1235916604</td>\n",
       "      <td>3.0</td>\n",
       "      <td>2.5</td>\n",
       "      <td>3.0</td>\n",
       "      <td>stcules</td>\n",
       "      <td>Foreign / Export Stout</td>\n",
       "      <td>3.0</td>\n",
       "      <td>3.0</td>\n",
       "      <td>Black Horse Black Beer</td>\n",
       "      <td>48215</td>\n",
       "    </tr>\n",
       "    <tr>\n",
       "      <th>3</th>\n",
       "      <td>10325</td>\n",
       "      <td>Vecchio Birraio</td>\n",
       "      <td>1234725145</td>\n",
       "      <td>3.0</td>\n",
       "      <td>3.0</td>\n",
       "      <td>3.5</td>\n",
       "      <td>stcules</td>\n",
       "      <td>German Pilsener</td>\n",
       "      <td>2.5</td>\n",
       "      <td>3.0</td>\n",
       "      <td>Sausa Pils</td>\n",
       "      <td>47969</td>\n",
       "    </tr>\n",
       "    <tr>\n",
       "      <th>4</th>\n",
       "      <td>1075</td>\n",
       "      <td>Caldera Brewing Company</td>\n",
       "      <td>1293735206</td>\n",
       "      <td>4.0</td>\n",
       "      <td>4.5</td>\n",
       "      <td>4.0</td>\n",
       "      <td>johnmichaelsen</td>\n",
       "      <td>American Double / Imperial IPA</td>\n",
       "      <td>4.0</td>\n",
       "      <td>4.5</td>\n",
       "      <td>Cauldron DIPA</td>\n",
       "      <td>64883</td>\n",
       "    </tr>\n",
       "  </tbody>\n",
       "</table>\n",
       "</div>"
      ],
      "text/plain": [
       "   brewery_id             brewery_name  review_time  review_overall  \\\n",
       "0       10325          Vecchio Birraio   1234817823             1.5   \n",
       "1       10325          Vecchio Birraio   1235915097             3.0   \n",
       "2       10325          Vecchio Birraio   1235916604             3.0   \n",
       "3       10325          Vecchio Birraio   1234725145             3.0   \n",
       "4        1075  Caldera Brewing Company   1293735206             4.0   \n",
       "\n",
       "   review_aroma  review_appearance review_profilename  \\\n",
       "0           2.0                2.5            stcules   \n",
       "1           2.5                3.0            stcules   \n",
       "2           2.5                3.0            stcules   \n",
       "3           3.0                3.5            stcules   \n",
       "4           4.5                4.0     johnmichaelsen   \n",
       "\n",
       "                       beer_style  review_palate  review_taste  \\\n",
       "0                      Hefeweizen            1.5           1.5   \n",
       "1              English Strong Ale            3.0           3.0   \n",
       "2          Foreign / Export Stout            3.0           3.0   \n",
       "3                 German Pilsener            2.5           3.0   \n",
       "4  American Double / Imperial IPA            4.0           4.5   \n",
       "\n",
       "                beer_name  beer_beerid  \n",
       "0            Sausa Weizen        47986  \n",
       "1                Red Moon        48213  \n",
       "2  Black Horse Black Beer        48215  \n",
       "3              Sausa Pils        47969  \n",
       "4           Cauldron DIPA        64883  "
      ]
     },
     "execution_count": 55,
     "metadata": {},
     "output_type": "execute_result"
    }
   ],
   "source": [
    "df.head()"
   ]
  },
  {
   "cell_type": "markdown",
   "id": "c49843ea",
   "metadata": {},
   "source": [
    "# Data Exploration"
   ]
  },
  {
   "cell_type": "code",
   "execution_count": 56,
   "id": "1a4e2f47",
   "metadata": {},
   "outputs": [
    {
     "data": {
      "text/plain": [
       "Lambic - Unblended                 1114\n",
       "Sahti                              1061\n",
       "Bière de Champagne / Bière Brut    1046\n",
       "Braggot                            1040\n",
       "English Pale Mild Ale               699\n",
       "Gose                                686\n",
       "Faro                                608\n",
       "Roggenbier                          466\n",
       "Kvass                               297\n",
       "Happoshu                            241\n",
       "Name: beer_style, dtype: int64"
      ]
     },
     "execution_count": 56,
     "metadata": {},
     "output_type": "execute_result"
    }
   ],
   "source": [
    "styles = df['beer_style'].value_counts()\n",
    "styles.sort_values\n",
    "styles.tail(10)"
   ]
  },
  {
   "cell_type": "code",
   "execution_count": 67,
   "id": "a192512b",
   "metadata": {},
   "outputs": [
    {
     "data": {
      "text/plain": [
       "104"
      ]
     },
     "execution_count": 67,
     "metadata": {},
     "output_type": "execute_result"
    }
   ],
   "source": [
    "len(styles)"
   ]
  },
  {
   "cell_type": "code",
   "execution_count": 66,
   "id": "b24460f5",
   "metadata": {},
   "outputs": [
    {
     "data": {
      "text/plain": [
       "<AxesSubplot:>"
      ]
     },
     "execution_count": 66,
     "metadata": {},
     "output_type": "execute_result"
    },
    {
     "data": {
      "image/png": "[encoded data removed]",
      "text/plain": [
       "<Figure size 1116x756 with 1 Axes>"
      ]
     },
     "metadata": {
      "needs_background": "light"
     },
     "output_type": "display_data"
    }
   ],
   "source": [
    "styles.plot(kind = 'box')"
   ]
  },
  {
   "cell_type": "code",
   "execution_count": 80,
   "id": "602b5826",
   "metadata": {},
   "outputs": [
    {
     "data": {
      "text/plain": [
       "90 Minute IPA                          3289\n",
       "India Pale Ale                         3130\n",
       "Old Rasputin Russian Imperial Stout    3110\n",
       "Sierra Nevada Celebration Ale          2999\n",
       "Two Hearted Ale                        2727\n",
       "Arrogant Bastard Ale                   2702\n",
       "Stone Ruination IPA                    2702\n",
       "Sierra Nevada Pale Ale                 2587\n",
       "Stone IPA (India Pale Ale)             2574\n",
       "Pliny The Elder                        2527\n",
       "Name: beer_name, dtype: int64"
      ]
     },
     "execution_count": 80,
     "metadata": {},
     "output_type": "execute_result"
    }
   ],
   "source": [
    "names = df['beer_name'].value_counts()\n",
    "names.sort_values\n",
    "names.head(10)"
   ]
  },
  {
   "cell_type": "code",
   "execution_count": 73,
   "id": "823287ce",
   "metadata": {},
   "outputs": [
    {
     "data": {
      "text/plain": [
       "56847"
      ]
     },
     "execution_count": 73,
     "metadata": {},
     "output_type": "execute_result"
    }
   ],
   "source": [
    "len(names) #56,847 unique kinds of beer "
   ]
  },
  {
   "cell_type": "code",
   "execution_count": 83,
   "id": "ec52deb7",
   "metadata": {},
   "outputs": [
    {
     "data": {
      "text/plain": [
       "<AxesSubplot:ylabel='Density'>"
      ]
     },
     "execution_count": 83,
     "metadata": {},
     "output_type": "execute_result"
    },
    {
     "data": {
      "image/png": "[encoded data removed]",
      "text/plain": [
       "<Figure size 1116x756 with 1 Axes>"
      ]
     },
     "metadata": {
      "needs_background": "light"
     },
     "output_type": "display_data"
    }
   ],
   "source": [
    "names.plot(kind='kde') # most beers have very few reviews, only some have alot "
   ]
  },
  {
   "cell_type": "markdown",
   "id": "5c3b2b6b",
   "metadata": {},
   "source": [
    "## Distribution of aroma reviews"
   ]
  },
  {
   "cell_type": "code",
   "execution_count": 94,
   "id": "45a618c5",
   "metadata": {},
   "outputs": [
    {
     "data": {
      "text/plain": [
       "<matplotlib.legend.Legend at 0x7feeca188070>"
      ]
     },
     "execution_count": 94,
     "metadata": {},
     "output_type": "execute_result"
    },
    {
     "data": {
      "image/png": "[encoded data removed]",
      "text/plain": [
       "<Figure size 1116x756 with 1 Axes>"
      ]
     },
     "metadata": {
      "needs_background": "light"
     },
     "output_type": "display_data"
    }
   ],
   "source": [
    "aroma = df['review_aroma']\n",
    "ax = aroma.plot(kind='kde')\n",
    "appearance = df['review_appearance']\n",
    "appearance.plot(kind='kde', ax=ax)\n",
    "taste = df['review_taste']\n",
    "taste.plot(kind='kde', ax=ax)\n",
    "palate = df['review_palate']\n",
    "palate.plot(kind='kde', ax=ax)\n",
    "overall = df['review_overall']\n",
    "overall.plot(kind='kde', ax=ax)\n",
    "\n",
    "ax.legend(['aroma', 'appearance', 'taste', 'palate', 'overall'])"
   ]
  },
  {
   "cell_type": "markdown",
   "id": "d22d2173",
   "metadata": {},
   "source": [
    "## How do the ratings distribution compare with each other? "
   ]
  },
  {
   "cell_type": "code",
   "execution_count": null,
   "id": "f22648d6",
   "metadata": {},
   "outputs": [],
   "source": [
    "plt.figure(figsize=(18, 5))\n",
    "sns.displot(beer_reviews_normalised, x=\"review_overall\", binwidth=0.12)"
   ]
  },
  {
   "cell_type": "code",
   "execution_count": null,
   "id": "39438ef7",
   "metadata": {},
   "outputs": [],
   "source": [
    "# trying to visualise correlation between the different review scores \n",
    "sns.displot(beer_reviews_normalised, x=\"review_overall\", y=\"review_aroma\", binwidth=(0.12,0.12), cbar=True)"
   ]
  },
  {
   "cell_type": "code",
   "execution_count": null,
   "id": "4961c19d",
   "metadata": {},
   "outputs": [],
   "source": [
    "beer_count = beer_reviews_normalised[\"beer_style\"].value_counts()"
   ]
  },
  {
   "cell_type": "code",
   "execution_count": null,
   "id": "9fd0107a",
   "metadata": {},
   "outputs": [],
   "source": [
    "beer_count.plot.bar()"
   ]
  },
  {
   "cell_type": "code",
   "execution_count": null,
   "id": "2ea26708",
   "metadata": {},
   "outputs": [],
   "source": [
    "list_of_beer_styles = beer_reviews_normalised[\"beer_style\"].unique()\n",
    "\n",
    "## apply filter to select the 50 most popular beers (in terms of review numbers)"
   ]
  },
  {
   "cell_type": "code",
   "execution_count": null,
   "id": "30198c13",
   "metadata": {},
   "outputs": [],
   "source": [
    "i = 0\n",
    "NumDatasets = 20\n",
    "list_of_beer_datasets = [0]*NumDatasets\n",
    "while i < NumDatasets: \n",
    "    list_of_beer_datasets[i] = beer_reviews_normalised.loc[beer_reviews_normalised[\"beer_style\"] == list_of_beer_styles[i]]\n",
    "    i += 1\n",
    "    "
   ]
  },
  {
   "cell_type": "code",
   "execution_count": null,
   "id": "e036411a",
   "metadata": {},
   "outputs": [],
   "source": [
    "list_of_beer_datasets[0][\"review_profilename\"].unique().shape"
   ]
  },
  {
   "cell_type": "code",
   "execution_count": null,
   "id": "e675094a",
   "metadata": {},
   "outputs": [],
   "source": [
    "hefeweizen_beer_count = list_of_beer_datasets[0][\"beer_name\"].value_counts()"
   ]
  },
  {
   "cell_type": "code",
   "execution_count": null,
   "id": "6076e4fe",
   "metadata": {},
   "outputs": [],
   "source": [
    "hefeweizen_beer_count.plot.bar()"
   ]
  },
  {
   "cell_type": "code",
   "execution_count": null,
   "id": "094a3d76",
   "metadata": {},
   "outputs": [],
   "source": []
  }
 ],
 "metadata": {
  "kernelspec": {
   "display_name": "Python 3 (ipykernel)",
   "language": "python",
   "name": "python3"
  },
  "language_info": {
   "codemirror_mode": {
    "name": "ipython",
    "version": 3
   },
   "file_extension": ".py",
   "mimetype": "text/x-python",
   "name": "python",
   "nbconvert_exporter": "python",
   "pygments_lexer": "ipython3",
   "version": "3.9.7"
  }
 },
 "nbformat": 4,
 "nbformat_minor": 5
}
